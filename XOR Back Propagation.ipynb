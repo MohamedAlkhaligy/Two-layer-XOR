{
 "cells": [
  {
   "cell_type": "markdown",
   "metadata": {},
   "source": [
    "# Two-layer XOR "
   ]
  },
  {
   "cell_type": "markdown",
   "metadata": {},
   "source": [
    "## Problem statement:\n",
    "\n",
    "Using Backpropagation algorithm to train a two layer **XOR** problem.\n",
    "Let us define a one hidden layer network with two input units, N hidden layer\n",
    "units and one output unit, with training set of D data samples, using the following\n",
    "notation:\n",
    "\n",
    "\n",
    "1. The input vector for two units as $x^{d} = (x^{d}_{1}, x^{d}_{2})$ or $x^{d}_{i}$; i = 1, 2, d = 1, .. . , D. (For the XOR problem introduced below, 4 data points exist in the dataset $x_{1}= (1, 0), x_{2}= (1, 1), x_{3} = (0, 1), x_{4} = (0, 0).)$\n",
    "     \n",
    "     \n",
    "2. the hidden layer with N units as $h_{j}$; j = 1, . . . N. Each of these units (orneurons) is connected to all the units of the previous layer with a weight $w^{1}_{ji}$. Here j refers to the unit index of the hidden layer and the i refers to the unit index of the previous layer.\n",
    "\n",
    "\n",
    "3. the non-linear function ReLu(t) = max(0, t).\n"
   ]
  },
  {
   "cell_type": "code",
   "execution_count": 1,
   "metadata": {},
   "outputs": [],
   "source": [
    "import numpy as np\n",
    "import matplotlib.pyplot as plt\n",
    "import sys"
   ]
  },
  {
   "cell_type": "code",
   "execution_count": 2,
   "metadata": {},
   "outputs": [],
   "source": [
    "# Hidden Units Number\n",
    "HUN = 2\n",
    "\n",
    "# Input Units Number\n",
    "IUN = 2\n",
    "\n",
    "# Output Units Number\n",
    "OUN = 1\n",
    "\n",
    "segma = 0.5\n",
    "\n",
    "# The speed of descent/learning\n",
    "eta = 0.1"
   ]
  },
  {
   "cell_type": "code",
   "execution_count": 3,
   "metadata": {},
   "outputs": [],
   "source": [
    "def ReLu(t) :\n",
    "    return (t > 0) * t"
   ]
  },
  {
   "cell_type": "markdown",
   "metadata": {},
   "source": [
    "### Forward Calculations:\n",
    "The output is then computed as follows:\n",
    "\n",
    "$$y(x^d​, w^1​, w^2​, b^2​, b^3​) = ReLu( \\sum_{j=1}^{N} [w^{2}_{j} Relu( b^{2}_{j} + \\sum_{i= 1}^{2} w^{1}_{ji} x^{d}_{i}) + b_{3}])$$"
   ]
  },
  {
   "cell_type": "code",
   "execution_count": 4,
   "metadata": {},
   "outputs": [],
   "source": [
    "def forward(X) :\n",
    "    global W1, W2, B2, B3\n",
    "    return ReLu(B3 + W2 @ ReLu(B2 + W1 @ X.T))"
   ]
  },
  {
   "cell_type": "markdown",
   "metadata": {},
   "source": [
    "### Loss Functions:\n",
    "The loss function we use for training in this homework is:\n",
    "$$E_λ​( w^1​, w^2​, b^2​, b^3​)= \\frac{1}{D} \\sum_{d = 1}^{D}​E^d_λ(w^1​, w^2​, b^2​, b^3​)$$\n",
    "Where:\n",
    "$$E_λ ( w^1​, w^2​, b^2​, b^3​)) = (y(x^d​, w^1​, w^2​, b^2​, b^3​) − t^d​)^2​+ λ (|w^1​|^2​+ |w^2​|^2​+|b^2​|^2 + |b^2​|^2​)$$\n",
    "and λ is a hyperparameter."
   ]
  },
  {
   "cell_type": "code",
   "execution_count": 5,
   "metadata": {},
   "outputs": [],
   "source": [
    "def loss (estimated_y, exact_y, norm = np.linalg.norm) :\n",
    "    global W1, W2, B2, B3\n",
    "    return (estimated_y - exact_y)**2 + segma * ((norm(W1))**2 + (norm(W2))**2 + (norm(B2))**2 + (norm(B3))**2)"
   ]
  },
  {
   "cell_type": "markdown",
   "metadata": {},
   "source": [
    "### Gradient Descent:\n",
    "The general formula for updating the weights and bias is via gradient descent, where the steps are indexed by τ = 1, . . . , T, where T is the stopping criteria, another hyperparameter to be estimated.\n",
    "- $w^{1,2}(τ + 1)= w^{1,2}(τ) − η​\\sum^{D}_{d=1}​\\frac{\\partial E}{\\partial w^{1,2} (τ)}$\n",
    "- $b^{2\\,3}​(τ + 1) = b^{2\\,3}​(τ) − η​\\sum^D_{d=1}​\\frac{\\partial{E}}{\\partial b^{2\\,3} (τ)}$\n",
    "\n",
    "where η, the speed of descent/learning is a hyper-parameter to be estimated"
   ]
  },
  {
   "cell_type": "markdown",
   "metadata": {},
   "source": [
    "#### Computing these gradients:\n",
    "In order to compute these formulae more precisely, we will need the derivative of the Relu(t) function, which can be readily derived\n",
    "\n",
    "$\\frac{\\partial Rule(t)}{\\partial t}$ = (1 if t ≥ 0) and (0 if t < 0)\n",
    "\n",
    "##### ● Top Layer​:\n",
    "$\\frac{\\partial E}{\\partial w^2}​= 2λw^2​+ [ 2(y − t^d​)h $ (if y > 0 else 0)] where h is the output of the hidden layer.\n",
    "\n",
    "$\\frac{\\partial E}{\\partial b^3} = 2λb^3​+ [ 2(y − t^d​)$ (if y > 0 else 0)]\n",
    "\n",
    "##### ● Bottom Layer:\n",
    "$\\frac{\\partial E}{\\partial w^1}​= 2λw^1​+ [ 2(y − t^d​)w^2​x^d​$(if y > 0 else 0)]\n",
    "\n",
    "$\\frac{\\partial E}{\\partial b^2}= 2λb^2​+ [ 2(y − t^d​)w^2​$(if y > 0 else 0)]"
   ]
  },
  {
   "cell_type": "code",
   "execution_count": 6,
   "metadata": {},
   "outputs": [],
   "source": [
    "def gradient(estimated_y, exact_y, X) :\n",
    "    global W1, W2, B2, B3\n",
    "    condition_flag = estimated_y > 0\n",
    "    W1 -= eta * (2 * segma * W1 + (2 * (estimated_y - exact_y) * (W2.T @ X))) * condition_flag\n",
    "    W2 -= eta * (2 * segma * W2 + (2 * (estimated_y - exact_y) * (ReLu(B2 + W1 @ X.T)).T)) * condition_flag\n",
    "    B2 -= eta * (2 * segma * B2 + (2 * (estimated_y - exact_y) * W2.T)) * condition_flag\n",
    "    B3 -= eta * (2 * segma * B3 + (2 * (estimated_y - exact_y)))"
   ]
  },
  {
   "cell_type": "markdown",
   "metadata": {},
   "source": [
    "### Training Algoritm:\n",
    "- Let N=2, λ=0.5, η=0.1 \n",
    "\n",
    "- The back propagation algorithm works by first (at step τ = 0) initializing all the weights and bias at small random values (with zero mean). Then we loop for τ = 1, . . . T and each step we loop for the training data d = 1, . . . , D and for each training pair $(x^d , t^d )$  compute the gradient for each of the parameters (weights and bias).\n",
    "\n",
    "- Plot a graph of the average loss $E_λ​(w^1​, w^2​, b^2​)$ versus τ.\n",
    "- These plots will help you choose the hyper-parameter T, the stoppage step where the loss does not decrease.\n",
    "- Report the final T and loss."
   ]
  },
  {
   "cell_type": "code",
   "execution_count": 7,
   "metadata": {},
   "outputs": [],
   "source": [
    "def network_function(X, exact_y, precision) :\n",
    "    global W1, W2, B2, B3\n",
    "    D = len(exact_y)\n",
    "    previous_loss = sys.maxsize\n",
    "    x_points = []\n",
    "    y_points = []\n",
    "    steps = 1\n",
    "    average_loss = 0\n",
    "    while True:\n",
    "        for i in range(D):\n",
    "            x = (X[i])[None, :]\n",
    "            estimated_y = forward(x)\n",
    "            current_loss = loss(estimated_y, exact_y[i]).sum()\n",
    "            gradient(estimated_y, exact_y[i], x)\n",
    "            average_loss += current_loss\n",
    "        average_loss /= D\n",
    "        x_points.append(steps)\n",
    "        y_points.append(average_loss.sum())  \n",
    "        if previous_loss - average_loss <= precision: break\n",
    "        previous_loss = average_loss\n",
    "        average_loss = 0\n",
    "        steps += 1\n",
    "    print(\"Loss reached:{} after T = {} iterations\".format(average_loss, steps))\n",
    "    plt.plot(x_points, y_points)\n",
    "    plt.xlabel('T')\n",
    "    plt.ylabel('Loss')\n",
    "    plt.show()"
   ]
  },
  {
   "cell_type": "code",
   "execution_count": 8,
   "metadata": {},
   "outputs": [
    {
     "name": "stdout",
     "output_type": "stream",
     "text": [
      "Loss reached:0.3904934818452397 after T = 18 iterations\n"
     ]
    },
    {
     "data": {
      "image/png": "[encoded data removed]",
      "text/plain": [
       "<Figure size 432x288 with 1 Axes>"
      ]
     },
     "metadata": {
      "needs_background": "light"
     },
     "output_type": "display_data"
    }
   ],
   "source": [
    "Xd = np.array([\n",
    "    [0, 0],\n",
    "    [0, 1],\n",
    "    [1, 0],\n",
    "    [1, 1]\n",
    "])\n",
    "\n",
    "\n",
    "W1 = np.random.randn(HUN, IUN)\n",
    "W2 = np.random.randn(OUN, HUN)\n",
    "B2 = np.random.randn(HUN, OUN)\n",
    "B3 = np.random.randn(OUN, OUN)\n",
    "\n",
    "Y = np.array([0, 1, 1, 0])\n",
    "network_function(Xd, Y, 0.0001)"
   ]
  },
  {
   "cell_type": "code",
   "execution_count": null,
   "metadata": {},
   "outputs": [],
   "source": []
  }
 ],
 "metadata": {
  "kernelspec": {
   "display_name": "Python 3",
   "language": "python",
   "name": "python3"
  },
  "language_info": {
   "codemirror_mode": {
    "name": "ipython",
    "version": 3
   },
   "file_extension": ".py",
   "mimetype": "text/x-python",
   "name": "python",
   "nbconvert_exporter": "python",
   "pygments_lexer": "ipython3",
   "version": "3.8.2"
  }
 },
 "nbformat": 4,
 "nbformat_minor": 4
}
